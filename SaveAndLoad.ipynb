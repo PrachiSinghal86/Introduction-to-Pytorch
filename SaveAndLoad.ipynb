{
  "nbformat": 4,
  "nbformat_minor": 0,
  "metadata": {
    "colab": {
      "name": "SaveAndLoad.ipynb",
      "provenance": [],
      "authorship_tag": "ABX9TyMCJZQ5IHH1nXMqYFruNIiV",
      "include_colab_link": true
    },
    "kernelspec": {
      "name": "python3",
      "display_name": "Python 3"
    }
  },
  "cells": [
    {
      "cell_type": "markdown",
      "metadata": {
        "id": "view-in-github",
        "colab_type": "text"
      },
      "source": [
        "<a href=\"https://colab.research.google.com/github/PrachiSinghal86/Introduction-to-Pytorch/blob/master/SaveAndLoad.ipynb\" target=\"_parent\"><img src=\"https://colab.research.google.com/assets/colab-badge.svg\" alt=\"Open In Colab\"/></a>"
      ]
    },
    {
      "cell_type": "code",
      "metadata": {
        "id": "KGubFyVLRGyn",
        "colab_type": "code",
        "colab": {}
      },
      "source": [
        "%matplotlib inline\n",
        "%config InlineBackend.figure_format='retina'\n",
        "import matplotlib.pyplot as plt\n",
        "import numpy as np\n",
        "import torch\n",
        "from torch import nn\n",
        "from torch import optim\n",
        "import torch.nn.functional as F\n",
        "import helper\n",
        "from torchvision import datasets,transforms\n",
        "\n"
      ],
      "execution_count": 0,
      "outputs": []
    },
    {
      "cell_type": "code",
      "metadata": {
        "id": "omhZs6gOc81O",
        "colab_type": "code",
        "outputId": "786f63f0-26f1-4618-d450-1a5c9166df36",
        "colab": {
          "base_uri": "https://localhost:8080/",
          "height": 299
        }
      },
      "source": [
        "import fc_model"
      ],
      "execution_count": 0,
      "outputs": [
        {
          "output_type": "error",
          "ename": "ModuleNotFoundError",
          "evalue": "ignored",
          "traceback": [
            "\u001b[0;31m---------------------------------------------------------------------------\u001b[0m",
            "\u001b[0;31mModuleNotFoundError\u001b[0m                       Traceback (most recent call last)",
            "\u001b[0;32m<ipython-input-23-b505d3f1f152>\u001b[0m in \u001b[0;36m<module>\u001b[0;34m()\u001b[0m\n\u001b[0;32m----> 1\u001b[0;31m \u001b[0;32mimport\u001b[0m \u001b[0mfc_model\u001b[0m\u001b[0;34m\u001b[0m\u001b[0;34m\u001b[0m\u001b[0m\n\u001b[0m",
            "\u001b[0;31mModuleNotFoundError\u001b[0m: No module named 'fc_model'",
            "",
            "\u001b[0;31m---------------------------------------------------------------------------\u001b[0;32m\nNOTE: If your import is failing due to a missing package, you can\nmanually install dependencies using either !pip or !apt.\n\nTo view examples of installing some common dependencies, click the\n\"Open Examples\" button below.\n\u001b[0;31m---------------------------------------------------------------------------\u001b[0m\n"
          ]
        }
      ]
    },
    {
      "cell_type": "code",
      "metadata": {
        "id": "5Pw1NlkqUC2m",
        "colab_type": "code",
        "outputId": "53188ad2-115b-4eab-d203-2e9104fc357f",
        "colab": {
          "base_uri": "https://localhost:8080/",
          "height": 275
        }
      },
      "source": [
        "transform=transforms.Compose([transforms.ToTensor(),transforms.Normalize((0.5,),(0.5,)),])\n",
        "#load trainset\n",
        "trainset=datasets.FashionMNIST('Fashion-MNIST_data/',download=True,train=True,transform=transform)\n",
        "trainloader=torch.utils.data.DataLoader(trainset,batch_size=64,shuffle=True)\n",
        "#load test set\n",
        "testset=datasets.FashionMNIST('Fashion-MNIST_data/',download=True,train=False,transform=transform)\n",
        "testloader=torch.utils.data.DataLoader(testset,batch_size=64,shuffle=True)"
      ],
      "execution_count": 0,
      "outputs": [
        {
          "output_type": "stream",
          "text": [
            "\r0it [00:00, ?it/s]"
          ],
          "name": "stderr"
        },
        {
          "output_type": "stream",
          "text": [
            "Downloading http://fashion-mnist.s3-website.eu-central-1.amazonaws.com/train-images-idx3-ubyte.gz to Fashion-MNIST_data/FashionMNIST/raw/train-images-idx3-ubyte.gz\n"
          ],
          "name": "stdout"
        },
        {
          "output_type": "stream",
          "text": [
            "26427392it [00:07, 3422795.86it/s]                              \n"
          ],
          "name": "stderr"
        },
        {
          "output_type": "stream",
          "text": [
            "Extracting Fashion-MNIST_data/FashionMNIST/raw/train-images-idx3-ubyte.gz to Fashion-MNIST_data/FashionMNIST/raw\n"
          ],
          "name": "stdout"
        },
        {
          "output_type": "stream",
          "text": [
            "\r0it [00:00, ?it/s]"
          ],
          "name": "stderr"
        },
        {
          "output_type": "stream",
          "text": [
            "Downloading http://fashion-mnist.s3-website.eu-central-1.amazonaws.com/train-labels-idx1-ubyte.gz to Fashion-MNIST_data/FashionMNIST/raw/train-labels-idx1-ubyte.gz\n"
          ],
          "name": "stdout"
        },
        {
          "output_type": "stream",
          "text": [
            "32768it [00:00, 72465.36it/s]                            \n",
            "0it [00:00, ?it/s]"
          ],
          "name": "stderr"
        },
        {
          "output_type": "stream",
          "text": [
            "Extracting Fashion-MNIST_data/FashionMNIST/raw/train-labels-idx1-ubyte.gz to Fashion-MNIST_data/FashionMNIST/raw\n",
            "Downloading http://fashion-mnist.s3-website.eu-central-1.amazonaws.com/t10k-images-idx3-ubyte.gz to Fashion-MNIST_data/FashionMNIST/raw/t10k-images-idx3-ubyte.gz\n"
          ],
          "name": "stdout"
        },
        {
          "output_type": "stream",
          "text": [
            "4423680it [00:01, 3025735.14it/s]                            \n",
            "0it [00:00, ?it/s]"
          ],
          "name": "stderr"
        },
        {
          "output_type": "stream",
          "text": [
            "Extracting Fashion-MNIST_data/FashionMNIST/raw/t10k-images-idx3-ubyte.gz to Fashion-MNIST_data/FashionMNIST/raw\n",
            "Downloading http://fashion-mnist.s3-website.eu-central-1.amazonaws.com/t10k-labels-idx1-ubyte.gz to Fashion-MNIST_data/FashionMNIST/raw/t10k-labels-idx1-ubyte.gz\n"
          ],
          "name": "stdout"
        },
        {
          "output_type": "stream",
          "text": [
            "8192it [00:00, 27114.22it/s]            \n"
          ],
          "name": "stderr"
        },
        {
          "output_type": "stream",
          "text": [
            "Extracting Fashion-MNIST_data/FashionMNIST/raw/t10k-labels-idx1-ubyte.gz to Fashion-MNIST_data/FashionMNIST/raw\n",
            "Processing...\n",
            "Done!\n"
          ],
          "name": "stdout"
        }
      ]
    },
    {
      "cell_type": "code",
      "metadata": {
        "id": "6KR1Tg6dUJZG",
        "colab_type": "code",
        "colab": {}
      },
      "source": [
        "images,labels=next(iter(trainloader))"
      ],
      "execution_count": 0,
      "outputs": []
    },
    {
      "cell_type": "code",
      "metadata": {
        "id": "VHz-_mOvUQGb",
        "colab_type": "code",
        "colab": {}
      },
      "source": [
        "model =nn.Sequential(nn.Linear(784,256),nn.Dropout(p=0.2),\n",
        "                     nn.ReLU(),nn.Linear(256,128),\n",
        "                     nn.Dropout(p=0.2),nn.ReLU(),nn.Linear(128,64),\n",
        "                     \n",
        "                     nn.Dropout(p=0.2),nn.ReLU(),nn.Linear(64,10),nn.LogSoftmax(dim=1))\n",
        "crite=nn.NLLLoss() \n",
        "optimizer=optim.Adam(model.parameters(),lr=0.01)\n",
        "\n"
      ],
      "execution_count": 0,
      "outputs": []
    },
    {
      "cell_type": "code",
      "metadata": {
        "id": "MpBwt9-CV21R",
        "colab_type": "code",
        "colab": {}
      },
      "source": [
        "from torch import optim\n",
        "test_losses,train_losses=[],[]\n",
        "epoch=16\n",
        "optimizer=optim.Adam(model.parameters(),lr=0.02)\n",
        "for i in range(epoch):\n",
        "  runlos=0\n",
        "  for images,labels in trainloader:\n",
        "    images=images.view(images.shape[0],-1)   #flatten the images\n",
        "    optimizer.zero_grad()\n",
        "    output=model.forward(images)\n",
        "    loss=crite(output,labels)\n",
        "    loss.backward()\n",
        "    optimizer.step()\n",
        "    runlos+=loss.item()\n",
        "  else:\n",
        "    testloss=0\n",
        "    acc=0\n",
        "    with torch.no_grad():\n",
        "      model.eval()\n",
        "      for images,labels in trainloader:\n",
        "        images=images.view(images.shape[0],-1) \n",
        "        logps=model(images)\n",
        "        testloss+=crite(logps,labels)\n",
        "        ps=torch.exp(logps)\n",
        "        topp,topclass=ps.topk(1,dim=1)\n",
        "        equals= topclass==labels.view(*topclass.shape)\n",
        "        acc+=torch.mean(equals.type(torch.FloatTensor))\n",
        "    model.train()"
      ],
      "execution_count": 0,
      "outputs": []
    },
    {
      "cell_type": "code",
      "metadata": {
        "id": "QEF7s-78WE3e",
        "colab_type": "code",
        "outputId": "f2000e1f-cca3-4ea7-fba3-80c5a680abed",
        "colab": {
          "base_uri": "https://localhost:8080/",
          "height": 255
        }
      },
      "source": [
        "print(\"Model state dictionary\",model.state_dict().keys())\n",
        "print(model)"
      ],
      "execution_count": 0,
      "outputs": [
        {
          "output_type": "stream",
          "text": [
            "Model state dictionary odict_keys(['0.weight', '0.bias', '3.weight', '3.bias', '6.weight', '6.bias', '9.weight', '9.bias'])\n",
            "Sequential(\n",
            "  (0): Linear(in_features=784, out_features=256, bias=True)\n",
            "  (1): Dropout(p=0.2, inplace=False)\n",
            "  (2): ReLU()\n",
            "  (3): Linear(in_features=256, out_features=128, bias=True)\n",
            "  (4): Dropout(p=0.2, inplace=False)\n",
            "  (5): ReLU()\n",
            "  (6): Linear(in_features=128, out_features=64, bias=True)\n",
            "  (7): Dropout(p=0.2, inplace=False)\n",
            "  (8): ReLU()\n",
            "  (9): Linear(in_features=64, out_features=10, bias=True)\n",
            "  (10): LogSoftmax()\n",
            ")\n"
          ],
          "name": "stdout"
        }
      ]
    },
    {
      "cell_type": "code",
      "metadata": {
        "id": "yPT1ox29ZNzX",
        "colab_type": "code",
        "colab": {}
      },
      "source": [
        "torch.save(model.state_dict(),'checkpoint.pth')"
      ],
      "execution_count": 0,
      "outputs": []
    },
    {
      "cell_type": "code",
      "metadata": {
        "id": "M4umRIsRZk_R",
        "colab_type": "code",
        "outputId": "db4defa4-4f6d-4309-dd13-50021efd6fd2",
        "colab": {
          "base_uri": "https://localhost:8080/",
          "height": 34
        }
      },
      "source": [
        "state_dict=torch.load('checkpoint.pth')\n",
        "print(model.state_dict().keys())"
      ],
      "execution_count": 0,
      "outputs": [
        {
          "output_type": "stream",
          "text": [
            "odict_keys(['0.weight', '0.bias', '3.weight', '3.bias', '6.weight', '6.bias', '9.weight', '9.bias'])\n"
          ],
          "name": "stdout"
        }
      ]
    },
    {
      "cell_type": "code",
      "metadata": {
        "id": "oJyYwLNlaEzp",
        "colab_type": "code",
        "outputId": "96a72ada-1450-4084-9283-012d27be61be",
        "colab": {
          "base_uri": "https://localhost:8080/",
          "height": 34
        }
      },
      "source": [
        "model.load_state_dict(state_dict)"
      ],
      "execution_count": 0,
      "outputs": [
        {
          "output_type": "execute_result",
          "data": {
            "text/plain": [
              "<All keys matched successfully>"
            ]
          },
          "metadata": {
            "tags": []
          },
          "execution_count": 26
        }
      ]
    },
    {
      "cell_type": "code",
      "metadata": {
        "id": "A2XzEOuwa2X0",
        "colab_type": "code",
        "colab": {}
      },
      "source": [
        "checkpoint= {'input_size':784,\n",
        "            'output_size':10,\n",
        "             'hiden_layers':[256,128,64],\n",
        "             'state_dict':model.state_dict()\n",
        "             }\n",
        "torch.save(checkpoint,'checkpoint.pth')"
      ],
      "execution_count": 0,
      "outputs": []
    }
  ]
}