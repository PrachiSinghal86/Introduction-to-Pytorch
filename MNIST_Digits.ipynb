{
  "nbformat": 4,
  "nbformat_minor": 0,
  "metadata": {
    "colab": {
      "name": "MNIST Digits",
      "provenance": [],
      "include_colab_link": true
    },
    "kernelspec": {
      "name": "python3",
      "display_name": "Python 3"
    }
  },
  "cells": [
    {
      "cell_type": "markdown",
      "metadata": {
        "id": "view-in-github",
        "colab_type": "text"
      },
      "source": [
        "<a href=\"https://colab.research.google.com/github/PrachiSinghal86/Introduction-to-Pytorch/blob/master/MNIST_Digits.ipynb\" target=\"_parent\"><img src=\"https://colab.research.google.com/assets/colab-badge.svg\" alt=\"Open In Colab\"/></a>"
      ]
    },
    {
      "cell_type": "code",
      "metadata": {
        "id": "LCOMY9MwAbvh",
        "colab_type": "code",
        "colab": {}
      },
      "source": [
        "import numpy as np\n",
        "import torch\n",
        "import helper\n",
        "import matplotlib.pyplot as ply"
      ],
      "execution_count": 0,
      "outputs": []
    },
    {
      "cell_type": "code",
      "metadata": {
        "id": "6yVy4kN1BLJx",
        "colab_type": "code",
        "colab": {}
      },
      "source": [
        "from torchvision import datasets,transforms\n",
        "transform=transforms.Compose([transforms.ToTensor(),transforms.Normalize((0.5,),(0.5,)),])"
      ],
      "execution_count": 0,
      "outputs": []
    },
    {
      "cell_type": "code",
      "metadata": {
        "id": "F5RY2nYrCQaA",
        "colab_type": "code",
        "colab": {}
      },
      "source": [
        "trainset=datasets.MNIST('MNIST_data/',download=True,train=True,transform=transform)\n",
        "trainloader=torch.utils.data.DataLoader(trainset,batch_size=64,shuffle=True)"
      ],
      "execution_count": 0,
      "outputs": []
    },
    {
      "cell_type": "code",
      "metadata": {
        "id": "po9bVcW7C4-N",
        "colab_type": "code",
        "colab": {}
      },
      "source": [
        "\n",
        "images, labels = next(iter(trainloader))\n"
      ],
      "execution_count": 0,
      "outputs": []
    },
    {
      "cell_type": "code",
      "metadata": {
        "id": "8zYbvbKmFUzZ",
        "colab_type": "code",
        "colab": {
          "base_uri": "https://localhost:8080/",
          "height": 68
        },
        "outputId": "fd49e3e9-e873-4770-f37e-1a37acb4d730"
      },
      "source": [
        "print(type(images))\n",
        "print(images.shape)\n",
        "print(labels.shape)"
      ],
      "execution_count": 45,
      "outputs": [
        {
          "output_type": "stream",
          "text": [
            "<class 'torch.Tensor'>\n",
            "torch.Size([64, 1, 28, 28])\n",
            "torch.Size([64])\n"
          ],
          "name": "stdout"
        }
      ]
    },
    {
      "cell_type": "code",
      "metadata": {
        "id": "HfMU12J1FpCh",
        "colab_type": "code",
        "colab": {
          "base_uri": "https://localhost:8080/",
          "height": 265
        },
        "outputId": "171e9470-7395-48a6-f9a1-7011af18ac55"
      },
      "source": [
        "ply.imshow(images[8].numpy().squeeze(),cmap='Greys_r');"
      ],
      "execution_count": 46,
      "outputs": [
        {
          "output_type": "display_data",
          "data": {
            "image/png": "[encoded data removed]",
            "text/plain": [
              "<Figure size 432x288 with 1 Axes>"
            ]
          },
          "metadata": {
            "tags": []
          }
        }
      ]
    },
    {
      "cell_type": "code",
      "metadata": {
        "id": "-mgSqtWMGgA5",
        "colab_type": "code",
        "colab": {
          "base_uri": "https://localhost:8080/",
          "height": 1000
        },
        "outputId": "501f84dc-c289-4a26-dc0e-d423fdbe908d"
      },
      "source": [
        "def activation(x):\n",
        "  return(1/(1+torch.exp(-x)))\n",
        "torch.manual_seed(7)\n",
        "inputs=images.view(images.shape[0],-1)  \n",
        "print(inputs)               #images.shape[0] gives batch size\n",
        "w1=torch.randn(784,256)\n",
        "w2=torch.randn(256,10)\n",
        "b1=torch.randn(256)\n",
        "b2=torch.randn(10)\n",
        "h=activation(torch.mm(inputs,w1)+b1)\n",
        "out=torch.mm(h,w2)+b2\n",
        "print(out)"
      ],
      "execution_count": 47,
      "outputs": [
        {
          "output_type": "stream",
          "text": [
            "tensor([[-1., -1., -1.,  ..., -1., -1., -1.],\n",
            "        [-1., -1., -1.,  ..., -1., -1., -1.],\n",
            "        [-1., -1., -1.,  ..., -1., -1., -1.],\n",
            "        ...,\n",
            "        [-1., -1., -1.,  ..., -1., -1., -1.],\n",
            "        [-1., -1., -1.,  ..., -1., -1., -1.],\n",
            "        [-1., -1., -1.,  ..., -1., -1., -1.]])\n",
            "tensor([[-1.5569e+01, -9.1405e-01,  4.7973e+00, -6.1588e+00, -2.0414e+00,\n",
            "          7.8812e+00, -3.0777e+00, -4.9765e+00, -1.2933e+01,  2.6340e+00],\n",
            "        [-1.9106e+01, -1.6520e+01, -1.2167e+01, -1.2461e+01,  7.8194e+00,\n",
            "          7.1250e+00, -1.3225e+00,  8.0197e+00, -9.5241e+00, -2.9815e+00],\n",
            "        [-1.8981e+01, -1.1008e+01, -4.7826e-01, -5.7630e+00,  7.0323e+00,\n",
            "          1.0930e+01, -2.5352e-02,  5.6543e+00, -7.0649e+00, -6.6437e+00],\n",
            "        [-1.7898e+01, -6.1848e+00,  2.0689e+00,  3.9923e-01,  8.4640e+00,\n",
            "          3.6003e+00, -3.8573e+00, -3.9614e+00, -1.1721e+01, -8.2732e-01],\n",
            "        [-1.6702e+01, -7.2638e+00,  3.7476e-01, -1.6109e+01,  9.4061e+00,\n",
            "          8.8062e+00,  6.4166e+00,  1.4300e+01, -1.1238e+01, -6.8862e+00],\n",
            "        [-1.3700e+01, -7.5625e+00,  6.7410e+00, -1.0565e+00,  1.3405e+01,\n",
            "          8.3431e+00, -9.7869e-01,  3.0806e+00, -1.5003e+01, -2.1764e+00],\n",
            "        [-8.7236e+00, -9.6857e+00, -5.2079e+00, -4.5822e+00,  1.2841e+01,\n",
            "          4.6252e+00, -7.7132e+00,  1.3796e+01, -8.7567e+00, -5.5267e+00],\n",
            "        [-1.6174e+01, -7.0894e+00,  3.3103e+00, -1.2765e+01,  5.1837e-01,\n",
            "          1.3376e+01, -7.5221e+00,  6.1232e+00, -1.8802e+01, -1.2709e+00],\n",
            "        [-1.8434e+01, -6.5993e+00, -5.2833e+00, -6.3714e+00,  3.2817e+00,\n",
            "          8.0729e+00, -9.7441e+00,  7.5937e+00, -1.4057e+01,  1.2244e+00],\n",
            "        [-1.5739e+01, -1.0607e+01, -2.3310e+00, -1.1948e+01,  4.5686e+00,\n",
            "          1.5032e+01, -6.5091e+00, -1.2914e+00, -2.2817e+01,  3.0455e-01],\n",
            "        [-1.4567e+01, -4.7472e+00,  2.0241e+00, -4.9923e+00,  1.4158e+01,\n",
            "          1.0444e+01, -8.7780e-01,  4.0333e+00, -1.6320e+01,  3.5994e+00],\n",
            "        [-1.8006e+01, -3.8370e+00, -5.5229e+00, -1.2968e+00,  6.2146e+00,\n",
            "          5.8998e+00, -4.0382e+00, -5.8006e-01, -1.4496e+01,  6.4592e+00],\n",
            "        [-2.2107e+01, -1.7231e+00, -8.6258e-01,  7.4492e-01,  1.0730e+01,\n",
            "          1.3453e+00, -5.6076e+00, -4.1642e+00, -8.8908e+00, -1.0894e+00],\n",
            "        [-2.1155e+01, -3.0481e-01,  4.2081e-01, -1.2640e+01, -5.4522e+00,\n",
            "          6.3565e-01, -1.0573e+01, -8.9037e+00, -1.2623e+01,  6.7606e+00],\n",
            "        [-1.7095e+01, -1.5822e+01, -4.3232e+00, -1.3730e+01,  4.9133e+00,\n",
            "          3.5105e+00,  2.1314e+00,  9.0631e-01, -1.4122e+01, -3.9098e+00],\n",
            "        [-2.2468e+01, -7.4352e-01, -8.0530e+00, -1.4341e+01,  4.5621e+00,\n",
            "          2.8397e+00,  4.1865e+00,  8.1119e+00, -8.9655e+00, -1.4794e+00],\n",
            "        [-5.2360e+00, -8.2406e+00, -5.9809e+00, -9.5426e+00,  2.1842e+00,\n",
            "          1.1471e+00, -7.3331e+00,  5.2200e+00, -4.1177e+00, -4.4853e+00],\n",
            "        [-1.4765e+01, -8.4250e+00, -4.6475e+00, -1.0370e+01,  9.0720e+00,\n",
            "          9.9551e+00, -9.0097e+00,  1.0283e+00, -1.0821e+01,  3.7518e+00],\n",
            "        [-5.9630e+00, -4.7174e+00, -2.9583e+00, -6.4954e+00,  1.9235e+01,\n",
            "          8.2649e+00, -1.0245e+01, -4.9574e+00, -9.0761e+00,  4.8286e-01],\n",
            "        [-1.1107e+01, -9.0512e-01, -7.2750e-02, -1.7262e+01,  1.3078e+01,\n",
            "          1.4289e+01, -7.0643e+00,  1.6382e+00, -1.1393e+01, -5.2375e+00],\n",
            "        [-1.9258e+01, -1.2950e+01, -3.7265e+00, -2.2416e+00, -3.2461e-01,\n",
            "          1.3879e+01, -8.2515e+00, -1.8373e+01, -1.4874e+01,  4.4753e+00],\n",
            "        [-1.8811e+01, -1.0887e+01, -6.9709e-01, -5.7231e+00,  9.1718e+00,\n",
            "          4.0580e+00, -3.1993e+00,  5.7802e+00, -1.1903e+01, -5.5345e+00],\n",
            "        [-1.6603e+01, -3.1783e+00, -3.7871e-01, -4.1649e+00,  8.0149e+00,\n",
            "          2.8139e+00, -6.1335e+00,  9.1162e+00, -1.5208e+01, -2.4219e+00],\n",
            "        [-1.5025e+01, -1.0623e+01, -3.5530e+00, -1.1436e+01,  6.4364e+00,\n",
            "          6.6933e+00, -9.1307e+00, -3.7954e+00, -1.4235e+01, -5.4955e-01],\n",
            "        [-8.5344e+00,  1.7031e+00,  5.7563e+00, -8.3668e+00, -4.1646e+00,\n",
            "          8.5601e+00, -6.5772e+00,  8.7467e+00, -1.9274e+01,  7.2120e+00],\n",
            "        [-6.3324e+00, -1.2623e+01,  8.9038e-02, -1.0325e+01,  1.0504e+01,\n",
            "          5.8817e+00, -7.7937e+00,  1.4943e+01, -1.4076e+01, -5.5029e+00],\n",
            "        [-1.7814e+01, -6.2443e+00,  1.9823e+00, -1.3954e+01,  2.9852e+00,\n",
            "          6.2373e+00, -6.0327e+00, -5.4930e+00, -7.3037e+00, -1.1996e+00],\n",
            "        [-1.6182e+01, -5.1797e+00,  1.3315e+00, -9.0436e+00,  9.8969e+00,\n",
            "          8.3098e+00, -3.2105e+00,  5.6142e+00, -1.9010e+01, -1.2156e+00],\n",
            "        [-1.3953e+01, -1.0005e+01, -7.8624e-01, -7.7266e+00,  6.8626e+00,\n",
            "          1.1049e+00, -6.8945e+00,  7.3471e+00, -1.6391e+01, -6.8918e+00],\n",
            "        [-1.0904e+01, -1.0874e+01, -1.9123e+00, -1.1749e+01,  1.0059e+01,\n",
            "          6.0195e+00, -3.4994e+00,  1.0491e+01, -1.4256e+01, -2.9945e+00],\n",
            "        [-2.0923e+01, -1.3497e+01, -7.6216e+00, -1.1959e+01,  6.4012e+00,\n",
            "          9.0036e+00, -1.5334e+01, -3.5926e+00, -1.0740e+01, -4.2452e+00],\n",
            "        [-1.4296e+01, -9.4228e-01,  3.4929e+00, -9.1044e+00,  1.8809e+01,\n",
            "         -4.9315e+00, -1.1920e+01,  2.8694e+00, -1.0059e+01, -6.8530e+00],\n",
            "        [-1.5416e+01, -3.3931e+00,  2.2444e+00, -2.4727e+00,  1.2127e+01,\n",
            "          5.6963e+00, -4.7705e+00,  1.3527e+00, -1.4640e+01, -7.5083e-02],\n",
            "        [-2.0252e+01, -1.1063e+01, -3.6598e+00, -1.2944e+01,  7.2179e+00,\n",
            "          1.4892e+01, -6.9426e+00,  5.5262e+00, -1.2681e+01, -1.0411e+01],\n",
            "        [-2.0232e+01, -1.3042e+01, -7.3216e-01, -1.2926e+01,  1.0692e+01,\n",
            "          6.3124e+00, -6.1739e+00,  3.0160e+00, -1.1051e+01, -6.9178e+00],\n",
            "        [-2.1077e+01, -9.3701e+00, -5.7546e+00,  2.0635e-01,  2.8897e-01,\n",
            "          1.1322e+01, -4.9476e+00, -1.6553e+01, -1.1516e+01,  2.4784e+00],\n",
            "        [-1.4246e+01, -1.1501e+01,  6.5517e+00, -1.0848e+01,  8.4010e+00,\n",
            "          5.2169e+00, -7.8515e+00, -4.0742e+00, -1.0882e+01, -2.5720e+00],\n",
            "        [-1.6908e+01, -8.5303e+00,  9.9728e+00, -4.4593e+00,  5.3252e+00,\n",
            "          1.6976e+00, -1.2479e+00, -3.1116e+00, -1.3247e+01, -5.6355e+00],\n",
            "        [-1.7505e+01, -5.7594e+00, -1.1170e+00, -1.3418e+01, -7.6390e+00,\n",
            "          1.4640e+01, -7.5152e+00,  9.6665e-01, -2.6676e+01, -5.5126e+00],\n",
            "        [-1.3794e+01, -5.4946e+00,  2.4197e+00, -1.5833e+01,  1.0151e+00,\n",
            "          8.1582e+00, -1.7703e+01, -9.0611e-01, -1.3412e+01, -2.7380e-02],\n",
            "        [-9.7598e+00, -1.3259e+01, -3.7530e-01, -8.4568e+00,  7.7148e+00,\n",
            "          5.0539e+00, -7.3037e+00, -1.5662e+00, -1.5404e+01, -5.5970e+00],\n",
            "        [-1.8101e+01, -4.3521e+00,  7.8233e+00, -9.4674e+00,  1.7281e+01,\n",
            "          5.4373e+00, -2.8200e+00, -1.6332e+00, -9.0604e+00,  4.8519e-01],\n",
            "        [-1.4280e+01, -7.3491e+00, -2.8770e+00, -9.4590e+00,  1.9904e+00,\n",
            "          1.8234e+01, -1.1790e+01,  3.5360e+00, -1.3234e+01, -2.3760e-01],\n",
            "        [-1.7538e+01, -3.3688e+00,  5.2428e+00, -1.2686e+01,  4.1018e+00,\n",
            "          1.0351e+01,  4.9939e+00, -7.6578e+00, -9.9486e+00, -6.8536e-01],\n",
            "        [-1.2673e+01, -7.8763e-01,  1.2558e+00, -8.9026e+00,  1.0397e+01,\n",
            "          6.3536e+00, -2.7920e+00, -4.8652e-01, -5.9340e+00, -4.3780e+00],\n",
            "        [-1.6926e+01, -7.7455e+00, -8.8659e+00, -7.3671e+00,  4.1448e+00,\n",
            "          3.4238e+00, -2.7982e+00, -3.0983e+00, -1.4680e+01, -5.6396e+00],\n",
            "        [-1.4761e+01, -1.5557e+01, -1.0641e+01, -5.7788e+00,  1.7263e+01,\n",
            "          7.1218e+00, -9.7525e+00,  3.4719e+00, -1.1991e+01, -8.7370e+00],\n",
            "        [-2.2771e+01, -4.2375e+00,  1.6310e+00, -1.0164e+01,  2.5052e+00,\n",
            "          9.3615e+00, -2.1085e+00, -4.7564e+00, -1.9511e+01, -2.6505e+00],\n",
            "        [-1.5125e+01, -1.0845e+01,  2.6154e-01, -1.1694e+01,  7.7636e+00,\n",
            "          6.6525e+00,  7.7659e-01, -2.2870e+00, -9.1705e+00, -4.1111e+00],\n",
            "        [-4.7892e+00, -1.1807e+01, -1.0219e+00, -8.4323e+00,  1.4364e+01,\n",
            "          1.6668e+00,  8.1547e+00, -2.1330e+00, -1.0959e+01,  8.8940e-01],\n",
            "        [-1.9925e+01, -1.0045e+01, -3.4608e+00, -8.1555e+00,  7.3385e+00,\n",
            "          4.8083e+00, -3.5319e+00,  4.7837e+00, -1.1684e+01, -3.5349e+00],\n",
            "        [-9.8018e+00, -8.1209e+00,  1.5791e+00, -1.0247e+01,  1.6162e+01,\n",
            "          6.8519e+00,  1.0079e+01,  6.1984e+00, -1.2705e+01, -4.5755e+00],\n",
            "        [-1.7074e+01,  2.0870e+00, -1.5606e+00, -6.5382e+00,  2.5657e+00,\n",
            "          4.0396e+00, -6.7402e+00,  1.7246e+00, -5.4574e+00, -1.0502e+00],\n",
            "        [-1.4950e+01,  2.4803e+00,  5.2632e+00, -7.5231e+00,  3.2955e+00,\n",
            "          3.3763e+00, -1.0213e+01, -1.2642e+00, -9.6929e+00,  2.9572e+00],\n",
            "        [-1.1976e+01,  5.0041e+00,  2.7799e-01, -1.4047e+01,  4.2859e+00,\n",
            "          6.1170e+00, -8.8346e+00, -4.5126e+00, -2.0053e+01,  2.9122e+00],\n",
            "        [-9.9741e+00, -3.9967e+00,  1.3542e+00,  1.2747e+00,  6.9347e+00,\n",
            "          9.4767e+00, -5.0060e+00,  4.1583e+00, -9.0307e+00,  4.3279e-01],\n",
            "        [-8.7297e+00, -1.1899e+01,  9.2598e-01, -1.1947e+01,  5.9116e+00,\n",
            "          6.8461e+00, -4.0068e+00, -9.7761e-01, -1.4339e+01, -4.0580e+00],\n",
            "        [-1.8602e+01, -1.0142e+01, -5.9845e+00, -7.2880e+00,  1.4342e+01,\n",
            "          3.4499e+00, -4.7808e+00,  7.2378e+00, -1.1664e+01, -7.0113e+00],\n",
            "        [-1.8776e+01,  1.4721e+00, -2.1206e+00, -1.2874e+01,  5.9078e+00,\n",
            "          4.0777e+00, -1.2783e+01,  7.8583e+00, -9.4735e+00, -9.2039e+00],\n",
            "        [-1.5253e+01, -5.1165e+00,  7.5480e+00, -1.3813e+01,  1.3890e+00,\n",
            "          3.2651e+00, -1.0083e+01,  4.5303e+00, -1.3490e+01,  2.3615e+00],\n",
            "        [-1.5008e+01, -3.6223e+00, -1.1146e+01, -1.1654e+01,  1.0234e+01,\n",
            "          8.9284e-01, -8.4196e+00,  7.7390e-01, -9.6044e+00, -9.7307e+00],\n",
            "        [-8.2593e+00, -7.2491e+00,  1.9197e+00, -1.2452e+01,  1.2782e+01,\n",
            "          4.8662e+00, -5.4061e+00, -5.6503e-01, -9.7105e+00, -2.0404e+00],\n",
            "        [-1.3639e+01, -1.3126e+01, -1.1726e+01, -1.0131e+01,  6.4915e+00,\n",
            "          1.1484e+01,  2.0425e+00,  2.4297e-01, -1.0081e+01, -4.5485e+00],\n",
            "        [-1.8351e+01, -7.6981e+00, -6.1791e+00, -5.0045e+00,  1.5082e+00,\n",
            "          9.5733e+00, -8.3169e+00, -8.3029e+00, -1.1591e+01,  6.4784e+00]])\n"
          ],
          "name": "stdout"
        }
      ]
    }
  ]
}