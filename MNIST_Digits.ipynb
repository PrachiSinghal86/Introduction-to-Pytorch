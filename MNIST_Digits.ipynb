{
  "nbformat": 4,
  "nbformat_minor": 0,
  "metadata": {
    "colab": {
      "name": "MNIST Digits",
      "provenance": [],
      "collapsed_sections": [],
      "include_colab_link": true
    },
    "kernelspec": {
      "name": "python3",
      "display_name": "Python 3"
    }
  },
  "cells": [
    {
      "cell_type": "markdown",
      "metadata": {
        "id": "view-in-github",
        "colab_type": "text"
      },
      "source": [
        "<a href=\"https://colab.research.google.com/github/PrachiSinghal86/Introduction-to-Pytorch/blob/master/MNIST_Digits.ipynb\" target=\"_parent\"><img src=\"https://colab.research.google.com/assets/colab-badge.svg\" alt=\"Open In Colab\"/></a>"
      ]
    },
    {
      "cell_type": "code",
      "metadata": {
        "id": "LCOMY9MwAbvh",
        "colab_type": "code",
        "colab": {}
      },
      "source": [
        "import numpy as np\n",
        "import torch\n",
        "import helper\n",
        "import matplotlib.pyplot as ply"
      ],
      "execution_count": 0,
      "outputs": []
    },
    {
      "cell_type": "code",
      "metadata": {
        "id": "6yVy4kN1BLJx",
        "colab_type": "code",
        "colab": {}
      },
      "source": [
        "from torchvision import datasets,transforms\n",
        "transform=transforms.Compose([transforms.ToTensor(),transforms.Normalize((0.5,),(0.5,)),])"
      ],
      "execution_count": 0,
      "outputs": []
    },
    {
      "cell_type": "code",
      "metadata": {
        "id": "F5RY2nYrCQaA",
        "colab_type": "code",
        "colab": {
          "base_uri": "https://localhost:8080/",
          "height": 275
        },
        "outputId": "96013067-0f4e-4064-c23b-9217c96783e8"
      },
      "source": [
        "trainset=datasets.MNIST('MNIST_data/',download=True,train=True,transform=transform)\n",
        "trainloader=torch.utils.data.DataLoader(trainset,batch_size=64,shuffle=True)"
      ],
      "execution_count": 5,
      "outputs": [
        {
          "output_type": "stream",
          "text": [
            "\r0it [00:00, ?it/s]"
          ],
          "name": "stderr"
        },
        {
          "output_type": "stream",
          "text": [
            "Downloading http://yann.lecun.com/exdb/mnist/train-images-idx3-ubyte.gz to MNIST_data/MNIST/raw/train-images-idx3-ubyte.gz\n"
          ],
          "name": "stdout"
        },
        {
          "output_type": "stream",
          "text": [
            "9920512it [00:01, 8140431.21it/s]                            \n"
          ],
          "name": "stderr"
        },
        {
          "output_type": "stream",
          "text": [
            "Extracting MNIST_data/MNIST/raw/train-images-idx3-ubyte.gz to MNIST_data/MNIST/raw\n"
          ],
          "name": "stdout"
        },
        {
          "output_type": "stream",
          "text": [
            "  0%|          | 0/28881 [00:00<?, ?it/s]"
          ],
          "name": "stderr"
        },
        {
          "output_type": "stream",
          "text": [
            "Downloading http://yann.lecun.com/exdb/mnist/train-labels-idx1-ubyte.gz to MNIST_data/MNIST/raw/train-labels-idx1-ubyte.gz\n"
          ],
          "name": "stdout"
        },
        {
          "output_type": "stream",
          "text": [
            "32768it [00:00, 122397.96it/s]           \n",
            "  0%|          | 0/1648877 [00:00<?, ?it/s]"
          ],
          "name": "stderr"
        },
        {
          "output_type": "stream",
          "text": [
            "Extracting MNIST_data/MNIST/raw/train-labels-idx1-ubyte.gz to MNIST_data/MNIST/raw\n",
            "Downloading http://yann.lecun.com/exdb/mnist/t10k-images-idx3-ubyte.gz to MNIST_data/MNIST/raw/t10k-images-idx3-ubyte.gz\n"
          ],
          "name": "stdout"
        },
        {
          "output_type": "stream",
          "text": [
            "1654784it [00:00, 2214236.86it/s]                           \n",
            "0it [00:00, ?it/s]"
          ],
          "name": "stderr"
        },
        {
          "output_type": "stream",
          "text": [
            "Extracting MNIST_data/MNIST/raw/t10k-images-idx3-ubyte.gz to MNIST_data/MNIST/raw\n",
            "Downloading http://yann.lecun.com/exdb/mnist/t10k-labels-idx1-ubyte.gz to MNIST_data/MNIST/raw/t10k-labels-idx1-ubyte.gz\n"
          ],
          "name": "stdout"
        },
        {
          "output_type": "stream",
          "text": [
            "8192it [00:00, 46513.16it/s]            "
          ],
          "name": "stderr"
        },
        {
          "output_type": "stream",
          "text": [
            "Extracting MNIST_data/MNIST/raw/t10k-labels-idx1-ubyte.gz to MNIST_data/MNIST/raw\n",
            "Processing...\n",
            "Done!\n"
          ],
          "name": "stdout"
        },
        {
          "output_type": "stream",
          "text": [
            "\n"
          ],
          "name": "stderr"
        }
      ]
    },
    {
      "cell_type": "code",
      "metadata": {
        "id": "po9bVcW7C4-N",
        "colab_type": "code",
        "colab": {}
      },
      "source": [
        "\n",
        "images, labels = next(iter(trainloader))\n"
      ],
      "execution_count": 0,
      "outputs": []
    },
    {
      "cell_type": "code",
      "metadata": {
        "id": "8zYbvbKmFUzZ",
        "colab_type": "code",
        "outputId": "6d89bb9b-f9cf-4588-8f87-30360828455f",
        "colab": {
          "base_uri": "https://localhost:8080/",
          "height": 68
        }
      },
      "source": [
        "print(type(images))\n",
        "print(images.shape)\n",
        "print(labels.shape)"
      ],
      "execution_count": 7,
      "outputs": [
        {
          "output_type": "stream",
          "text": [
            "<class 'torch.Tensor'>\n",
            "torch.Size([64, 1, 28, 28])\n",
            "torch.Size([64])\n"
          ],
          "name": "stdout"
        }
      ]
    },
    {
      "cell_type": "code",
      "metadata": {
        "id": "HfMU12J1FpCh",
        "colab_type": "code",
        "outputId": "7f9ae6e3-8f94-40b4-9d87-48ccca2c6a52",
        "colab": {
          "base_uri": "https://localhost:8080/",
          "height": 265
        }
      },
      "source": [
        "ply.imshow(images[8].numpy().squeeze(),cmap='Greys_r');"
      ],
      "execution_count": 8,
      "outputs": [
        {
          "output_type": "display_data",
          "data": {
            "image/png": "[encoded data removed]",
            "text/plain": [
              "<Figure size 432x288 with 1 Axes>"
            ]
          },
          "metadata": {
            "tags": []
          }
        }
      ]
    },
    {
      "cell_type": "code",
      "metadata": {
        "id": "-mgSqtWMGgA5",
        "colab_type": "code",
        "outputId": "2bb08d83-ae59-4394-e4d6-3d6ce47cebdf",
        "colab": {
          "base_uri": "https://localhost:8080/",
          "height": 1000
        }
      },
      "source": [
        "def activation(x):\n",
        "  return(1/(1+torch.exp(-x)))\n",
        "def sigmoid(x):\n",
        "  return(torch.exp(x)/torch.sum(torch.exp(x),dim=1).view(-1,1))\n",
        "torch.manual_seed(7)\n",
        "inputs=images.view(images.shape[0],-1)            #images.shape[0] gives batch size\n",
        "w1=torch.randn(784,256)\n",
        "w2=torch.randn(256,10)\n",
        "b1=torch.randn(256)\n",
        "b2=torch.randn(10)\n",
        "h=activation(torch.mm(inputs,w1)+b1)\n",
        "out=torch.mm(h,w2)+b2\n",
        "out=sigmoid(out)\n",
        "pr=torch.sum(out,dim=1)\n",
        "print(out)\n",
        "print(pr)"
      ],
      "execution_count": 10,
      "outputs": [
        {
          "output_type": "stream",
          "text": [
            "tensor([[1.3616e-11, 2.1914e-05, 3.6179e-07, 3.3851e-09, 3.7768e-06, 3.2896e-01,\n",
            "         2.2822e-11, 6.7101e-01, 8.7916e-14, 3.3234e-06],\n",
            "        [5.7907e-13, 3.7472e-09, 9.9255e-07, 9.8490e-06, 9.7477e-01, 2.5077e-02,\n",
            "         2.2492e-09, 1.3397e-04, 5.9235e-08, 7.2467e-06],\n",
            "        [1.4029e-11, 1.0269e-08, 3.6093e-01, 2.4764e-08, 6.9399e-08, 5.6270e-01,\n",
            "         5.1324e-05, 2.6210e-04, 1.4454e-09, 7.6057e-02],\n",
            "        [2.0196e-13, 5.7944e-03, 8.5063e-05, 3.7412e-10, 9.9031e-01, 3.3102e-03,\n",
            "         1.6396e-05, 3.0408e-04, 1.9377e-07, 1.7969e-04],\n",
            "        [5.0101e-13, 2.4283e-05, 7.5135e-01, 1.1098e-10, 2.4724e-01, 7.5147e-05,\n",
            "         2.9855e-10, 6.8431e-06, 1.5716e-11, 1.3007e-03],\n",
            "        [2.0064e-09, 1.7641e-08, 6.8793e-07, 2.9004e-09, 6.3699e-07, 9.9999e-01,\n",
            "         7.2651e-08, 1.0454e-05, 6.4807e-10, 1.8442e-08],\n",
            "        [1.1394e-10, 7.8469e-09, 2.5608e-04, 1.1512e-06, 6.7045e-01, 3.2928e-01,\n",
            "         2.8166e-07, 2.3022e-06, 3.6697e-15, 1.6419e-05],\n",
            "        [9.6198e-11, 5.8831e-04, 9.9293e-01, 8.9360e-06, 6.0938e-03, 1.2939e-05,\n",
            "         5.2312e-09, 2.6992e-06, 2.4312e-10, 3.6611e-04],\n",
            "        [2.2707e-14, 1.8114e-11, 6.2268e-10, 1.1700e-16, 2.3205e-07, 9.9994e-01,\n",
            "         6.2481e-11, 2.6031e-07, 8.1824e-16, 6.2006e-05],\n",
            "        [2.0344e-11, 8.7058e-07, 7.0722e-04, 6.3617e-04, 5.4107e-01, 4.5725e-01,\n",
            "         3.5348e-08, 1.1817e-06, 3.3578e-08, 3.3401e-04],\n",
            "        [3.6844e-10, 1.9605e-04, 7.9316e-06, 2.9624e-13, 8.6269e-01, 1.1014e-01,\n",
            "         8.5700e-11, 2.6957e-02, 7.2650e-06, 4.3148e-07],\n",
            "        [3.0188e-15, 2.5516e-10, 8.8796e-06, 1.1572e-09, 7.9783e-01, 2.0108e-06,\n",
            "         5.3278e-08, 2.0216e-01, 1.5054e-11, 3.3403e-07],\n",
            "        [1.2321e-11, 3.2482e-10, 7.2532e-02, 1.0056e-08, 9.2469e-01, 1.4835e-04,\n",
            "         1.0556e-06, 2.6277e-03, 1.2676e-15, 1.2284e-09],\n",
            "        [4.0422e-07, 3.1870e-06, 2.8078e-05, 2.1811e-10, 3.0934e-06, 8.9138e-01,\n",
            "         1.0855e-01, 3.6017e-05, 1.2503e-13, 3.2472e-08],\n",
            "        [1.1106e-11, 1.3906e-08, 6.7228e-08, 2.9061e-12, 5.1095e-01, 4.8905e-01,\n",
            "         8.2759e-08, 1.4656e-09, 9.3983e-17, 7.5390e-07],\n",
            "        [2.5180e-15, 2.5472e-08, 4.7665e-04, 1.6768e-08, 9.9951e-01, 7.4412e-06,\n",
            "         9.7368e-15, 2.4328e-06, 6.3888e-12, 1.4003e-07],\n",
            "        [9.8084e-11, 2.5047e-09, 1.3365e-05, 1.5133e-09, 5.7677e-07, 9.9999e-01,\n",
            "         9.5590e-08, 3.6597e-09, 2.0704e-11, 3.3695e-11],\n",
            "        [4.2655e-09, 8.8902e-09, 4.3829e-04, 1.2176e-05, 9.3080e-01, 6.8646e-02,\n",
            "         2.9143e-08, 5.1220e-05, 2.0616e-10, 5.1828e-05],\n",
            "        [3.1857e-13, 3.5346e-10, 1.1020e-06, 6.0290e-06, 1.5064e-07, 9.9999e-01,\n",
            "         3.7177e-10, 1.4533e-15, 2.6986e-10, 8.5243e-08],\n",
            "        [2.9331e-12, 3.4397e-08, 1.8979e-02, 2.2580e-12, 7.8744e-04, 9.8023e-01,\n",
            "         3.0943e-10, 3.8304e-08, 8.3934e-10, 3.2436e-07],\n",
            "        [1.5645e-09, 3.4020e-11, 1.6083e-05, 2.7020e-08, 5.1277e-05, 7.6040e-04,\n",
            "         2.5140e-05, 9.9914e-01, 6.5495e-15, 6.4423e-06],\n",
            "        [6.8033e-10, 1.8746e-08, 3.8269e-02, 2.0481e-09, 8.1631e-06, 9.5923e-01,\n",
            "         2.7562e-06, 1.1831e-03, 1.7287e-09, 1.3102e-03],\n",
            "        [2.5017e-11, 1.1038e-09, 8.2574e-11, 9.0988e-10, 9.3807e-03, 5.0734e-01,\n",
            "         2.7810e-03, 4.8050e-01, 3.7345e-19, 9.8589e-09],\n",
            "        [4.3222e-09, 3.2427e-09, 3.3164e-04, 1.1709e-10, 9.9422e-01, 5.3660e-03,\n",
            "         3.6697e-08, 1.5907e-07, 2.5266e-09, 8.3032e-05],\n",
            "        [5.0954e-11, 6.0005e-06, 4.8876e-01, 6.4389e-09, 6.3385e-03, 5.0486e-01,\n",
            "         2.2452e-10, 1.5154e-08, 1.6515e-09, 3.5925e-05],\n",
            "        [1.6780e-11, 8.0215e-09, 8.9071e-05, 5.0774e-08, 9.1679e-01, 8.2907e-02,\n",
            "         1.7425e-04, 1.4389e-06, 1.0908e-12, 3.8039e-05],\n",
            "        [2.0755e-12, 4.9997e-08, 4.8488e-09, 2.2150e-12, 9.9954e-01, 4.4546e-04,\n",
            "         1.4716e-08, 1.6067e-05, 4.2842e-11, 1.0687e-09],\n",
            "        [2.5113e-11, 7.2407e-09, 1.8538e-05, 3.3750e-10, 8.7954e-01, 1.1537e-01,\n",
            "         4.7228e-08, 5.0758e-03, 4.0325e-10, 4.2989e-08],\n",
            "        [3.2880e-11, 2.9740e-02, 2.5665e-07, 5.8219e-09, 1.2356e-01, 4.3009e-01,\n",
            "         4.9411e-08, 4.1660e-01, 4.3486e-07, 1.4828e-06],\n",
            "        [1.1009e-12, 7.5682e-07, 6.6327e-05, 2.9563e-07, 9.7994e-01, 1.9969e-02,\n",
            "         1.7297e-05, 9.7065e-06, 4.0082e-08, 4.7920e-07],\n",
            "        [1.1682e-09, 1.2875e-01, 6.4095e-05, 1.3101e-08, 5.0896e-02, 4.3821e-04,\n",
            "         8.7930e-07, 1.0672e-03, 2.2721e-08, 8.1878e-01],\n",
            "        [1.1384e-16, 2.1330e-03, 2.0583e-02, 1.8760e-04, 1.0525e-02, 9.6657e-01,\n",
            "         1.7082e-15, 2.0237e-08, 3.2532e-08, 1.6782e-08],\n",
            "        [2.2763e-10, 9.6963e-08, 6.2784e-07, 7.8020e-11, 5.9958e-04, 9.9937e-01,\n",
            "         1.5763e-10, 9.0783e-07, 1.0909e-08, 2.7146e-05],\n",
            "        [8.1750e-14, 2.9179e-07, 5.8613e-01, 1.8275e-09, 7.2749e-03, 2.4672e-01,\n",
            "         5.8926e-12, 1.5988e-01, 1.0581e-06, 6.7449e-11],\n",
            "        [8.5750e-13, 2.3170e-05, 1.0239e-03, 1.8483e-05, 9.8279e-01, 1.5385e-05,\n",
            "         1.0690e-06, 1.5853e-02, 3.7113e-08, 2.7040e-04],\n",
            "        [6.7534e-14, 4.7401e-10, 3.5250e-07, 4.4082e-09, 9.9680e-01, 2.8556e-03,\n",
            "         2.0782e-05, 3.2577e-04, 1.7821e-10, 4.2189e-07],\n",
            "        [6.8000e-11, 7.9918e-10, 1.0228e-06, 1.2333e-09, 9.7400e-01, 2.4979e-02,\n",
            "         6.3757e-05, 8.4028e-04, 1.0611e-07, 1.1649e-04],\n",
            "        [6.3885e-15, 9.3564e-17, 3.7396e-09, 8.2578e-15, 4.8599e-04, 9.9950e-01,\n",
            "         7.0544e-11, 1.6730e-05, 1.0370e-11, 5.9907e-09],\n",
            "        [2.3301e-09, 1.7610e-09, 2.3349e-09, 1.6674e-11, 9.9877e-01, 1.1652e-03,\n",
            "         1.5437e-07, 5.7920e-05, 8.6974e-10, 3.5555e-06],\n",
            "        [3.1572e-10, 2.4716e-05, 2.0175e-03, 3.6313e-10, 2.9502e-01, 1.1658e-01,\n",
            "         1.2013e-05, 8.5789e-02, 5.4806e-09, 5.0056e-01],\n",
            "        [2.2942e-09, 5.1757e-08, 4.1175e-10, 4.9892e-10, 3.5599e-05, 1.4043e-01,\n",
            "         2.6474e-10, 3.6557e-07, 3.2025e-11, 8.5953e-01],\n",
            "        [4.9928e-14, 1.6761e-06, 8.0593e-05, 6.4209e-07, 2.3248e-01, 7.6353e-01,\n",
            "         2.5767e-08, 1.1292e-03, 2.3638e-10, 2.7869e-03],\n",
            "        [1.3752e-13, 9.0444e-11, 1.0701e-05, 1.0601e-06, 2.6723e-06, 9.9998e-01,\n",
            "         9.8557e-12, 8.3733e-06, 8.0559e-14, 2.1298e-10],\n",
            "        [3.1232e-14, 2.6429e-04, 3.7520e-01, 1.3121e-12, 5.9667e-01, 2.4940e-02,\n",
            "         2.2365e-06, 2.8278e-03, 7.4751e-09, 9.6013e-05],\n",
            "        [1.3474e-17, 1.4583e-06, 3.6227e-05, 4.7143e-06, 9.9995e-01, 2.9454e-06,\n",
            "         9.1356e-10, 2.0568e-06, 9.8560e-12, 4.2019e-07],\n",
            "        [3.4785e-07, 1.5748e-06, 6.5389e-01, 4.4417e-08, 3.2841e-01, 1.7610e-02,\n",
            "         6.6637e-05, 7.6881e-07, 7.5252e-09, 2.2688e-05],\n",
            "        [3.0822e-09, 2.3628e-12, 1.7997e-14, 4.4998e-11, 3.1661e-03, 5.7791e-03,\n",
            "         1.6983e-09, 9.9105e-01, 2.2185e-11, 4.1966e-09],\n",
            "        [3.4763e-08, 8.6588e-10, 6.0486e-11, 2.3902e-09, 6.9455e-01, 3.0078e-01,\n",
            "         9.3183e-06, 4.6621e-03, 2.4110e-12, 1.3862e-08],\n",
            "        [8.0273e-14, 6.3354e-09, 5.1934e-04, 1.2156e-11, 7.1673e-01, 2.8105e-01,\n",
            "         5.3482e-06, 1.1528e-03, 5.0372e-12, 5.4712e-04],\n",
            "        [8.9622e-11, 3.7486e-07, 2.1893e-03, 9.6938e-06, 3.3244e-01, 6.6536e-01,\n",
            "         3.8058e-08, 1.0831e-06, 3.1409e-08, 6.5654e-06],\n",
            "        [1.9426e-14, 1.0626e-06, 1.6326e-03, 1.8472e-09, 2.4627e-03, 9.5332e-01,\n",
            "         2.1396e-09, 1.0828e-03, 2.1801e-13, 4.1500e-02],\n",
            "        [5.0411e-10, 5.3320e-10, 1.1205e-04, 3.7929e-11, 5.3468e-05, 9.9723e-01,\n",
            "         3.2617e-09, 2.6006e-03, 1.3204e-10, 8.3833e-08],\n",
            "        [9.4952e-11, 2.6298e-05, 4.8828e-02, 1.2779e-07, 9.1701e-01, 3.4129e-02,\n",
            "         3.8378e-07, 1.8031e-07, 3.1084e-09, 8.7199e-06],\n",
            "        [1.3299e-11, 4.9159e-08, 1.1505e-09, 6.8072e-10, 2.0172e-03, 9.9798e-01,\n",
            "         2.1369e-12, 5.1278e-09, 6.7907e-14, 1.9019e-08],\n",
            "        [3.3723e-15, 3.4409e-10, 2.9201e-07, 8.6357e-12, 4.1585e-07, 1.0000e+00,\n",
            "         5.4230e-14, 5.9308e-14, 2.2454e-13, 2.6425e-06],\n",
            "        [3.1434e-17, 3.1573e-11, 9.0568e-05, 3.9846e-11, 4.2562e-01, 5.6947e-01,\n",
            "         8.5835e-05, 1.3615e-06, 2.1314e-13, 4.7339e-03],\n",
            "        [5.0005e-12, 3.1196e-09, 1.3817e-05, 1.7779e-09, 9.2126e-06, 2.0217e-05,\n",
            "         3.0942e-08, 9.9996e-01, 2.8654e-08, 2.6858e-07],\n",
            "        [1.3233e-11, 4.7481e-07, 6.8392e-03, 1.6624e-08, 3.2593e-01, 6.6661e-01,\n",
            "         2.0202e-07, 2.2568e-04, 1.6887e-07, 3.9317e-04],\n",
            "        [1.7064e-05, 2.9064e-04, 3.8649e-02, 1.6849e-09, 9.6197e-05, 4.0370e-01,\n",
            "         3.3333e-07, 5.1105e-01, 9.1376e-10, 4.6198e-02],\n",
            "        [8.4784e-14, 1.9810e-10, 1.1299e-07, 2.6911e-15, 5.7774e-03, 3.6698e-01,\n",
            "         1.8448e-04, 6.2706e-01, 4.9232e-11, 1.1039e-09],\n",
            "        [2.8781e-15, 3.1863e-09, 2.7414e-10, 3.8963e-12, 1.0000e+00, 2.0415e-07,\n",
            "         8.6689e-10, 7.7369e-10, 1.2748e-14, 2.7351e-14],\n",
            "        [5.3220e-14, 5.3255e-09, 1.8908e-08, 3.1070e-12, 9.7833e-01, 2.1339e-02,\n",
            "         4.8319e-05, 2.7826e-04, 1.7873e-12, 1.2115e-06],\n",
            "        [1.1368e-14, 1.0110e-04, 3.7179e-05, 5.3160e-07, 1.1822e-01, 8.8150e-01,\n",
            "         5.5296e-05, 2.7435e-06, 8.1675e-10, 7.5853e-05],\n",
            "        [5.5967e-08, 4.5070e-10, 3.1221e-08, 7.3860e-11, 5.3867e-01, 9.9786e-02,\n",
            "         1.0399e-07, 3.6154e-01, 1.3321e-12, 5.9203e-08]])\n",
            "tensor([1.0000, 1.0000, 1.0000, 1.0000, 1.0000, 1.0000, 1.0000, 1.0000, 1.0000,\n",
            "        1.0000, 1.0000, 1.0000, 1.0000, 1.0000, 1.0000, 1.0000, 1.0000, 1.0000,\n",
            "        1.0000, 1.0000, 1.0000, 1.0000, 1.0000, 1.0000, 1.0000, 1.0000, 1.0000,\n",
            "        1.0000, 1.0000, 1.0000, 1.0000, 1.0000, 1.0000, 1.0000, 1.0000, 1.0000,\n",
            "        1.0000, 1.0000, 1.0000, 1.0000, 1.0000, 1.0000, 1.0000, 1.0000, 1.0000,\n",
            "        1.0000, 1.0000, 1.0000, 1.0000, 1.0000, 1.0000, 1.0000, 1.0000, 1.0000,\n",
            "        1.0000, 1.0000, 1.0000, 1.0000, 1.0000, 1.0000, 1.0000, 1.0000, 1.0000,\n",
            "        1.0000])\n"
          ],
          "name": "stdout"
        }
      ]
    }
  ]
}