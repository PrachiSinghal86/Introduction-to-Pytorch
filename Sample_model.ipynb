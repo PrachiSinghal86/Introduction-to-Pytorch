{
  "nbformat": 4,
  "nbformat_minor": 0,
  "metadata": {
    "colab": {
      "name": "Sample model",
      "provenance": [],
      "collapsed_sections": [],
      "include_colab_link": true
    },
    "kernelspec": {
      "name": "python3",
      "display_name": "Python 3"
    }
  },
  "cells": [
    {
      "cell_type": "markdown",
      "metadata": {
        "id": "view-in-github",
        "colab_type": "text"
      },
      "source": [
        "<a href=\"https://colab.research.google.com/github/PrachiSinghal86/Introduction-to-Pytorch/blob/master/Sample_model.ipynb\" target=\"_parent\"><img src=\"https://colab.research.google.com/assets/colab-badge.svg\" alt=\"Open In Colab\"/></a>"
      ]
    },
    {
      "cell_type": "code",
      "metadata": {
        "id": "3pldOoGAqlH4",
        "colab_type": "code",
        "colab": {}
      },
      "source": [
        "from torch import nn\n",
        "class Network(nn.Module):\n",
        "  def __init__(self):\n",
        "    super().__init__()\n",
        "    self.hidden=nn.Linear(784,256)\n",
        "    self.output=nn.Linear(256,10)\n",
        "    self.sigmoid=nn.Sigmoid()\n",
        "    self.softmax=nn.Softmax()\n",
        "  def forward(self,x):\n",
        "    x=self.hidden(x)\n",
        "    x=self.sigmoid(x)\n",
        "    x=self.output(x)\n",
        "    x=self.softmax(x)\n",
        "    return x\n",
        "  \n",
        "    \n"
      ],
      "execution_count": 0,
      "outputs": []
    },
    {
      "cell_type": "code",
      "metadata": {
        "id": "1jC2t1Fc0_A8",
        "colab_type": "code",
        "colab": {}
      },
      "source": [
        ""
      ],
      "execution_count": 0,
      "outputs": []
    },
    {
      "cell_type": "code",
      "metadata": {
        "id": "JcP0Rh2Z0LJS",
        "colab_type": "code",
        "colab": {
          "base_uri": "https://localhost:8080/",
          "height": 119
        },
        "outputId": "9f09eace-90f5-44b9-db92-f8c75b7eb586"
      },
      "source": [
        "model=Network()\n",
        "model"
      ],
      "execution_count": 3,
      "outputs": [
        {
          "output_type": "execute_result",
          "data": {
            "text/plain": [
              "Network(\n",
              "  (hidden): Linear(in_features=784, out_features=256, bias=True)\n",
              "  (output): Linear(in_features=256, out_features=10, bias=True)\n",
              "  (sigmoid): Sigmoid()\n",
              "  (softmax): Softmax(dim=None)\n",
              ")"
            ]
          },
          "metadata": {
            "tags": []
          },
          "execution_count": 3
        }
      ]
    },
    {
      "cell_type": "code",
      "metadata": {
        "id": "aTE4oeNx1BRo",
        "colab_type": "code",
        "colab": {}
      },
      "source": [
        "#using torch.nn.functional\n",
        "import torch.nn.functional as F\n",
        "class Network(nn.Module):\n",
        "  def __init__(self):\n",
        "    super().__init__()\n",
        "    #input to hidden layer\n",
        "    self.hidden=nn.Linear(784,256)\n",
        "\n",
        "    self.output=nn.Linear(256,10)\n",
        "  def forward(self,x):\n",
        "    x=F.sigmoid(self.hidden(x))\n",
        "    x=F.softmax(self.output(x))\n",
        "    return x\n"
      ],
      "execution_count": 0,
      "outputs": []
    },
    {
      "cell_type": "code",
      "metadata": {
        "id": "LnFVou2-2Fpq",
        "colab_type": "code",
        "colab": {
          "base_uri": "https://localhost:8080/",
          "height": 85
        },
        "outputId": "2c7bfc31-3a79-4361-962c-0932bbe46d48"
      },
      "source": [
        "model=Network()\n",
        "model"
      ],
      "execution_count": 6,
      "outputs": [
        {
          "output_type": "execute_result",
          "data": {
            "text/plain": [
              "Network(\n",
              "  (hidden): Linear(in_features=784, out_features=256, bias=True)\n",
              "  (output): Linear(in_features=256, out_features=10, bias=True)\n",
              ")"
            ]
          },
          "metadata": {
            "tags": []
          },
          "execution_count": 6
        }
      ]
    },
    {
      "cell_type": "code",
      "metadata": {
        "id": "M_xPxkAl2oc_",
        "colab_type": "code",
        "colab": {
          "base_uri": "https://localhost:8080/",
          "height": 102
        },
        "outputId": "58c57917-97a9-4596-ece0-dbc28aa2becc"
      },
      "source": [
        "#two hidden layer\n",
        "import torch.nn.functional as F\n",
        "class Network(nn.Module):\n",
        "  def __init__(self):\n",
        "    super().__init__()\n",
        "    #input to hidden layer\n",
        "    self.hidden1=nn.Linear(784,128)\n",
        "    self.hidden2=nn.Linear(128,64)\n",
        "    self.output=nn.Linear(64,10)\n",
        "  def forward(self,x):\n",
        "    x=F.ReLU(self.hidden1(x))\n",
        "    x=F.ReLU(self.hidden2(x))\n",
        "    x=F.softmax(self.output(x))\n",
        "    return x\n",
        "model=Network()\n",
        "model"
      ],
      "execution_count": 7,
      "outputs": [
        {
          "output_type": "execute_result",
          "data": {
            "text/plain": [
              "Network(\n",
              "  (hidden1): Linear(in_features=784, out_features=128, bias=True)\n",
              "  (hidden2): Linear(in_features=128, out_features=64, bias=True)\n",
              "  (output): Linear(in_features=64, out_features=10, bias=True)\n",
              ")"
            ]
          },
          "metadata": {
            "tags": []
          },
          "execution_count": 7
        }
      ]
    }
  ]
}