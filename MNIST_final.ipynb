{
  "nbformat": 4,
  "nbformat_minor": 0,
  "metadata": {
    "colab": {
      "name": "MNIST final",
      "provenance": [],
      "collapsed_sections": [],
      "include_colab_link": true
    },
    "kernelspec": {
      "name": "python3",
      "display_name": "Python 3"
    }
  },
  "cells": [
    {
      "cell_type": "markdown",
      "metadata": {
        "id": "view-in-github",
        "colab_type": "text"
      },
      "source": [
        "<a href=\"https://colab.research.google.com/github/PrachiSinghal86/Introduction-to-Pytorch/blob/master/MNIST_final.ipynb\" target=\"_parent\"><img src=\"https://colab.research.google.com/assets/colab-badge.svg\" alt=\"Open In Colab\"/></a>"
      ]
    },
    {
      "cell_type": "code",
      "metadata": {
        "id": "Eagu5IrDH8Ub",
        "colab_type": "code",
        "colab": {
          "base_uri": "https://localhost:8080/",
          "height": 275
        },
        "outputId": "95235920-2f3b-4f51-9f04-e75ce2c2e68a"
      },
      "source": [
        "import numpy as np\n",
        "from torch import nn\n",
        "import torch.nn.functional as F\n",
        "import torch\n",
        "import helper\n",
        "import matplotlib.pyplot as ply\n",
        "from torchvision import datasets,transforms\n",
        "transform=transforms.Compose([transforms.ToTensor(),transforms.Normalize((0.5,),(0.5,)),])\n",
        "trainset=datasets.MNIST('MNIST_data/',download=True,train=True,transform=transform)\n",
        "trainloader=torch.utils.data.DataLoader(trainset,batch_size=64,shuffle=True)\n",
        "images, labels = next(iter(trainloader))  "
      ],
      "execution_count": 2,
      "outputs": [
        {
          "output_type": "stream",
          "text": [
            "\r0it [00:00, ?it/s]"
          ],
          "name": "stderr"
        },
        {
          "output_type": "stream",
          "text": [
            "Downloading http://yann.lecun.com/exdb/mnist/train-images-idx3-ubyte.gz to MNIST_data/MNIST/raw/train-images-idx3-ubyte.gz\n"
          ],
          "name": "stdout"
        },
        {
          "output_type": "stream",
          "text": [
            "9920512it [00:01, 9642298.74it/s]                            \n"
          ],
          "name": "stderr"
        },
        {
          "output_type": "stream",
          "text": [
            "Extracting MNIST_data/MNIST/raw/train-images-idx3-ubyte.gz to MNIST_data/MNIST/raw\n"
          ],
          "name": "stdout"
        },
        {
          "output_type": "stream",
          "text": [
            "  0%|          | 0/28881 [00:00<?, ?it/s]"
          ],
          "name": "stderr"
        },
        {
          "output_type": "stream",
          "text": [
            "Downloading http://yann.lecun.com/exdb/mnist/train-labels-idx1-ubyte.gz to MNIST_data/MNIST/raw/train-labels-idx1-ubyte.gz\n"
          ],
          "name": "stdout"
        },
        {
          "output_type": "stream",
          "text": [
            "32768it [00:00, 141278.33it/s]           \n",
            "  0%|          | 0/1648877 [00:00<?, ?it/s]"
          ],
          "name": "stderr"
        },
        {
          "output_type": "stream",
          "text": [
            "Extracting MNIST_data/MNIST/raw/train-labels-idx1-ubyte.gz to MNIST_data/MNIST/raw\n",
            "Downloading http://yann.lecun.com/exdb/mnist/t10k-images-idx3-ubyte.gz to MNIST_data/MNIST/raw/t10k-images-idx3-ubyte.gz\n"
          ],
          "name": "stdout"
        },
        {
          "output_type": "stream",
          "text": [
            "1654784it [00:00, 2228411.10it/s]                            \n",
            "0it [00:00, ?it/s]"
          ],
          "name": "stderr"
        },
        {
          "output_type": "stream",
          "text": [
            "Extracting MNIST_data/MNIST/raw/t10k-images-idx3-ubyte.gz to MNIST_data/MNIST/raw\n",
            "Downloading http://yann.lecun.com/exdb/mnist/t10k-labels-idx1-ubyte.gz to MNIST_data/MNIST/raw/t10k-labels-idx1-ubyte.gz\n"
          ],
          "name": "stdout"
        },
        {
          "output_type": "stream",
          "text": [
            "8192it [00:00, 53422.15it/s]            \n"
          ],
          "name": "stderr"
        },
        {
          "output_type": "stream",
          "text": [
            "Extracting MNIST_data/MNIST/raw/t10k-labels-idx1-ubyte.gz to MNIST_data/MNIST/raw\n",
            "Processing...\n",
            "Done!\n"
          ],
          "name": "stdout"
        }
      ]
    },
    {
      "cell_type": "code",
      "metadata": {
        "id": "1OfmgQLsZChX",
        "colab_type": "code",
        "colab": {}
      },
      "source": [
        ""
      ],
      "execution_count": 0,
      "outputs": []
    },
    {
      "cell_type": "code",
      "metadata": {
        "id": "2peIu_lUNtVF",
        "colab_type": "code",
        "outputId": "4dd607f0-28a1-4e21-bdca-a9f4c83111bf",
        "colab": {
          "base_uri": "https://localhost:8080/",
          "height": 34
        }
      },
      "source": [
        "model =nn.Sequential(nn.Linear(784,128),\n",
        "                     nn.ReLU(),nn.Linear(128,64),\n",
        "                     nn.ReLU(),nn.Linear(64,10))\n",
        "crite=nn.CrossEntropyLoss()    #Loss Function\n",
        "\n",
        "images=images.view(images.shape[0],-1)   #flatten the images\n",
        "logits=model(images)\n",
        "loss=crite(logits,labels)\n",
        "print(loss)"
      ],
      "execution_count": 3,
      "outputs": [
        {
          "output_type": "stream",
          "text": [
            "tensor(2.2997, grad_fn=<NllLossBackward>)\n"
          ],
          "name": "stdout"
        }
      ]
    },
    {
      "cell_type": "code",
      "metadata": {
        "id": "Bt4-N7f4RFLH",
        "colab_type": "code",
        "outputId": "f6bac69e-4c09-4eb0-ec52-b485ece045b2",
        "colab": {
          "base_uri": "https://localhost:8080/",
          "height": 34
        }
      },
      "source": [
        "model =nn.Sequential(nn.Linear(784,128),\n",
        "                     nn.ReLU(),nn.Linear(128,64),\n",
        "                     nn.ReLU(),nn.Linear(64,32),\n",
        "                     nn.ReLU(),nn.Linear(32,10),nn.LogSoftmax(dim=1))\n",
        "crite=nn.NLLLoss()    #Loss Function\n",
        "logits=model(images)\n",
        "loss=crite(logits,labels)\n",
        "print(loss)"
      ],
      "execution_count": 4,
      "outputs": [
        {
          "output_type": "stream",
          "text": [
            "tensor(2.3021, grad_fn=<NllLossBackward>)\n"
          ],
          "name": "stdout"
        }
      ]
    },
    {
      "cell_type": "code",
      "metadata": {
        "id": "GORxrBECZD8C",
        "colab_type": "code",
        "outputId": "64325a87-0de4-4d19-a63f-2afaa1cefc1d",
        "colab": {
          "base_uri": "https://localhost:8080/",
          "height": 187
        }
      },
      "source": [
        "print(\"Before backward pss\")\n",
        "print(model[0].weight.grad)\n",
        "loss.backward()\n",
        "print(\"After Backward pss\")\n",
        "print(model[0].weight.grad)"
      ],
      "execution_count": 5,
      "outputs": [
        {
          "output_type": "stream",
          "text": [
            "Before backward pss\n",
            "None\n",
            "After Backward pss\n",
            "tensor([[-0.0013, -0.0013, -0.0013,  ..., -0.0013, -0.0013, -0.0013],\n",
            "        [ 0.0015,  0.0015,  0.0015,  ...,  0.0015,  0.0015,  0.0015],\n",
            "        [ 0.0002,  0.0002,  0.0002,  ...,  0.0002,  0.0002,  0.0002],\n",
            "        ...,\n",
            "        [ 0.0006,  0.0006,  0.0006,  ...,  0.0006,  0.0006,  0.0006],\n",
            "        [ 0.0002,  0.0002,  0.0002,  ...,  0.0002,  0.0002,  0.0002],\n",
            "        [-0.0009, -0.0009, -0.0009,  ..., -0.0009, -0.0009, -0.0009]])\n"
          ],
          "name": "stdout"
        }
      ]
    },
    {
      "cell_type": "code",
      "metadata": {
        "id": "XfWwFM6vbTDb",
        "colab_type": "code",
        "outputId": "b0319332-733c-4df5-bd29-ad9e3be8856d",
        "colab": {
          "base_uri": "https://localhost:8080/",
          "height": 391
        }
      },
      "source": [
        "from torch import optim\n",
        "optimizer=optim.SGD(model.parameters(),lr=0.01)\n",
        "print('Initial Weights',model[0].weight)\n",
        "images,labels= next(iter(trainloader))\n",
        "images.resize_(64,784)\n",
        "\n",
        "optimizer.zero_grad()\n",
        "output=model.forward(images)\n",
        "loss=crite(output,labels)\n",
        "loss.backward()\n",
        "print('Gradient:',model[0].weight.grad)"
      ],
      "execution_count": 6,
      "outputs": [
        {
          "output_type": "stream",
          "text": [
            "Initial Weights Parameter containing:\n",
            "tensor([[-0.0057, -0.0174,  0.0130,  ..., -0.0133,  0.0294, -0.0169],\n",
            "        [-0.0230,  0.0102, -0.0253,  ..., -0.0045,  0.0191, -0.0171],\n",
            "        [-0.0223, -0.0313,  0.0277,  ...,  0.0173,  0.0142,  0.0277],\n",
            "        ...,\n",
            "        [ 0.0115,  0.0177,  0.0247,  ..., -0.0243, -0.0245,  0.0104],\n",
            "        [ 0.0143,  0.0271, -0.0284,  ..., -0.0190,  0.0112,  0.0102],\n",
            "        [-0.0223,  0.0149,  0.0013,  ..., -0.0330, -0.0245,  0.0199]],\n",
            "       requires_grad=True)\n",
            "Gradient: tensor([[-2.9613e-05, -2.9613e-05, -2.9613e-05,  ..., -2.9613e-05,\n",
            "         -2.9613e-05, -2.9613e-05],\n",
            "        [ 8.1768e-04,  8.1768e-04,  8.1768e-04,  ...,  8.1768e-04,\n",
            "          8.1768e-04,  8.1768e-04],\n",
            "        [ 1.0990e-04,  1.0990e-04,  1.0990e-04,  ...,  1.0990e-04,\n",
            "          1.0990e-04,  1.0990e-04],\n",
            "        ...,\n",
            "        [-5.3071e-05, -5.3071e-05, -5.3071e-05,  ..., -5.3071e-05,\n",
            "         -5.3071e-05, -5.3071e-05],\n",
            "        [-2.1523e-04, -2.1523e-04, -2.1523e-04,  ..., -2.1523e-04,\n",
            "         -2.1523e-04, -2.1523e-04],\n",
            "        [-8.2840e-04, -8.2840e-04, -8.2840e-04,  ..., -8.2840e-04,\n",
            "         -8.2840e-04, -8.2840e-04]])\n"
          ],
          "name": "stdout"
        }
      ]
    },
    {
      "cell_type": "code",
      "metadata": {
        "id": "AcVUEsLcdFvD",
        "colab_type": "code",
        "outputId": "bec90785-eaea-44d5-a1ed-f781a3b795e4",
        "colab": {
          "base_uri": "https://localhost:8080/",
          "height": 170
        }
      },
      "source": [
        "optimizer.step()\n",
        "print('Updated weights',model[0].weight)"
      ],
      "execution_count": 7,
      "outputs": [
        {
          "output_type": "stream",
          "text": [
            "Updated weights Parameter containing:\n",
            "tensor([[-0.0057, -0.0174,  0.0130,  ..., -0.0133,  0.0294, -0.0169],\n",
            "        [-0.0231,  0.0102, -0.0253,  ..., -0.0045,  0.0191, -0.0171],\n",
            "        [-0.0223, -0.0313,  0.0277,  ...,  0.0173,  0.0142,  0.0277],\n",
            "        ...,\n",
            "        [ 0.0115,  0.0177,  0.0247,  ..., -0.0243, -0.0245,  0.0104],\n",
            "        [ 0.0143,  0.0271, -0.0284,  ..., -0.0190,  0.0112,  0.0102],\n",
            "        [-0.0223,  0.0149,  0.0013,  ..., -0.0329, -0.0245,  0.0199]],\n",
            "       requires_grad=True)\n"
          ],
          "name": "stdout"
        }
      ]
    },
    {
      "cell_type": "code",
      "metadata": {
        "id": "ySBk9x9Nd1Gq",
        "colab_type": "code",
        "outputId": "c2c1e784-7003-4dff-deb9-472ca37f0ef8",
        "colab": {
          "base_uri": "https://localhost:8080/",
          "height": 119
        }
      },
      "source": [
        "model =nn.Sequential(nn.Linear(784,128),\n",
        "                     nn.ReLU(),nn.Linear(128,64),\n",
        "                     nn.ReLU(),nn.Linear(64,32),\n",
        "                     nn.ReLU(),nn.Linear(32,10),nn.LogSoftmax(dim=1))\n",
        "crite=nn.NLLLoss()    #Loss Function\n",
        "epoch=6\n",
        "optimizer=optim.SGD(model.parameters(),lr=0.02)\n",
        "for i in range(epoch):\n",
        "  runlos=0\n",
        "  for images,labels in trainloader:\n",
        "    images=images.view(images.shape[0],-1)   #flatten the images\n",
        "    optimizer.zero_grad()\n",
        "    output=model.forward(images)\n",
        "    loss=crite(output,labels)\n",
        "    loss.backward()\n",
        "    optimizer.step()\n",
        "    runlos+=loss.item()\n",
        "  else:\n",
        "    print(f\"Training Loss:{runlos/len(trainloader)}\")\n",
        "\n"
      ],
      "execution_count": 8,
      "outputs": [
        {
          "output_type": "stream",
          "text": [
            "Training Loss:1.0148773129020672\n",
            "Training Loss:0.35091109763679984\n",
            "Training Loss:0.2727369791599733\n",
            "Training Loss:0.21939045402493432\n",
            "Training Loss:0.18083579468129796\n",
            "Training Loss:0.15306886183872406\n"
          ],
          "name": "stdout"
        }
      ]
    },
    {
      "cell_type": "code",
      "metadata": {
        "id": "pgJQcKBlgMJJ",
        "colab_type": "code",
        "outputId": "4098f936-3c29-48ba-a69d-f0ea0380b32a",
        "colab": {
          "base_uri": "https://localhost:8080/",
          "height": 253
        }
      },
      "source": [
        "%matplotlib inline\n",
        "\n",
        "import helper\n",
        "images,labels=next(iter(trainloader))\n",
        "img=images[3].view(1,784)\n",
        "with torch.no_grad():\n",
        "  logits=model.forward(img)\n",
        "p=F.softmax(logits,dim=1)\n",
        "view_classify(img.view(1,28,28),p)"
      ],
      "execution_count": 14,
      "outputs": [
        {
          "output_type": "display_data",
          "data": {
            "image/png": "[encoded data removed]",
            "text/plain": [
              "<Figure size 432x648 with 2 Axes>"
            ]
          },
          "metadata": {
            "tags": []
          }
        }
      ]
    },
    {
      "cell_type": "code",
      "metadata": {
        "id": "dsySpoqfE32W",
        "colab_type": "code",
        "colab": {}
      },
      "source": [
        "import matplotlib.pyplot as plt\n",
        "import numpy as np\n",
        "from torch import nn, optim\n",
        "from torch.autograd import Variable\n",
        "\n",
        "\n",
        "def test_network(net, trainloader):\n",
        "\n",
        "    criterion = nn.MSELoss()\n",
        "    optimizer = optim.Adam(net.parameters(), lr=0.001)\n",
        "\n",
        "    dataiter = iter(trainloader)\n",
        "    images, labels = dataiter.next()\n",
        "\n",
        "    # Create Variables for the inputs and targets\n",
        "    inputs = Variable(images)\n",
        "    targets = Variable(images)\n",
        "\n",
        "    # Clear the gradients from all Variables\n",
        "    optimizer.zero_grad()\n",
        "\n",
        "    # Forward pass, then backward pass, then update weights\n",
        "    output = net.forward(inputs)\n",
        "    loss = criterion(output, targets)\n",
        "    loss.backward()\n",
        "    optimizer.step()\n",
        "\n",
        "    return True\n",
        "\n",
        "\n",
        "def imshow(image, ax=None, title=None, normalize=True):\n",
        "    \"\"\"Imshow for Tensor.\"\"\"\n",
        "    if ax is None:\n",
        "        fig, ax = plt.subplots()\n",
        "    image = image.numpy().transpose((1, 2, 0))\n",
        "\n",
        "    if normalize:\n",
        "        mean = np.array([0.485, 0.456, 0.406])\n",
        "        std = np.array([0.229, 0.224, 0.225])\n",
        "        image = std * image + mean\n",
        "        image = np.clip(image, 0, 1)\n",
        "\n",
        "    ax.imshow(image)\n",
        "    ax.spines['top'].set_visible(False)\n",
        "    ax.spines['right'].set_visible(False)\n",
        "    ax.spines['left'].set_visible(False)\n",
        "    ax.spines['bottom'].set_visible(False)\n",
        "    ax.tick_params(axis='both', length=0)\n",
        "    ax.set_xticklabels('')\n",
        "    ax.set_yticklabels('')\n",
        "\n",
        "    return ax\n",
        "\n",
        "\n",
        "def view_recon(img, recon):\n",
        "    ''' Function for displaying an image (as a PyTorch Tensor) and its\n",
        "        reconstruction also a PyTorch Tensor\n",
        "    '''\n",
        "\n",
        "    fig, axes = plt.subplots(ncols=2, sharex=True, sharey=True)\n",
        "    axes[0].imshow(img.numpy().squeeze())\n",
        "    axes[1].imshow(recon.data.numpy().squeeze())\n",
        "    for ax in axes:\n",
        "        ax.axis('off')\n",
        "        ax.set_adjustable('box-forced')\n",
        "\n",
        "def view_classify(img, ps, version=\"MNIST\"):\n",
        "    ''' Function for viewing an image and it's predicted classes.\n",
        "    '''\n",
        "    ps = ps.data.numpy().squeeze()\n",
        "\n",
        "    fig, (ax1, ax2) = plt.subplots(figsize=(6,9), ncols=2)\n",
        "    ax1.imshow(img.resize_(1, 28, 28).numpy().squeeze())\n",
        "    ax1.axis('off')\n",
        "    ax2.barh(np.arange(10), ps)\n",
        "    ax2.set_aspect(0.1)\n",
        "    ax2.set_yticks(np.arange(10))\n",
        "    if version == \"MNIST\":\n",
        "        ax2.set_yticklabels(np.arange(10))\n",
        "    elif version == \"Fashion\":\n",
        "        ax2.set_yticklabels(['T-shirt/top',\n",
        "                            'Trouser',\n",
        "                            'Pullover',\n",
        "                            'Dress',\n",
        "                            'Coat',\n",
        "                            'Sandal',\n",
        "                            'Shirt',\n",
        "                            'Sneaker',\n",
        "                            'Bag',\n",
        "                            'Ankle Boot'], size='small');\n",
        "    ax2.set_title('Class Probability')\n",
        "    ax2.set_xlim(0, 1.1)\n",
        "\n",
        "    plt.tight_layout()"
      ],
      "execution_count": 0,
      "outputs": []
    }
  ]
}