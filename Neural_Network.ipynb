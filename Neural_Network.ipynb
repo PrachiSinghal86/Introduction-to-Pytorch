{
  "nbformat": 4,
  "nbformat_minor": 0,
  "metadata": {
    "colab": {
      "name": "Neural Network",
      "provenance": [],
      "collapsed_sections": [],
      "include_colab_link": true
    },
    "kernelspec": {
      "name": "python3",
      "display_name": "Python 3"
    }
  },
  "cells": [
    {
      "cell_type": "markdown",
      "metadata": {
        "id": "view-in-github",
        "colab_type": "text"
      },
      "source": [
        "<a href=\"https://colab.research.google.com/github/PrachiSinghal86/Introduction-to-Pytorch/blob/master/Neural_Network.ipynb\" target=\"_parent\"><img src=\"https://colab.research.google.com/assets/colab-badge.svg\" alt=\"Open In Colab\"/></a>"
      ]
    },
    {
      "cell_type": "code",
      "metadata": {
        "id": "ecbQCMGfypVg",
        "colab_type": "code",
        "colab": {}
      },
      "source": [
        "import torch\n",
        "def activation(x):\n",
        "  return 1/(1+torch.exp(-x))\n"
      ],
      "execution_count": 0,
      "outputs": []
    },
    {
      "cell_type": "code",
      "metadata": {
        "id": "69_eABBDyuyf",
        "colab_type": "code",
        "colab": {
          "base_uri": "https://localhost:8080/",
          "height": 51
        },
        "outputId": "69d91378-caa9-4c06-b68a-8daf91721ee5"
      },
      "source": [
        "torch.manual_seed(7)\n",
        "features=torch.randn((1,5))\n",
        "weights=torch.randn((5,2))\n",
        "bias=torch.randn((1,1))\n",
        "h=torch.mm(features,weights)+bias\n",
        "w2=torch.randn((2,1))\n",
        "z=activation(h)\n",
        "print(z)\n",
        "h=torch.mm(z,w2)\n",
        "z=activation(h)\n",
        "z\n"
      ],
      "execution_count": 2,
      "outputs": [
        {
          "output_type": "stream",
          "text": [
            "tensor([[0.7527, 0.9823]])\n"
          ],
          "name": "stdout"
        },
        {
          "output_type": "execute_result",
          "data": {
            "text/plain": [
              "tensor([[0.8844]])"
            ]
          },
          "metadata": {
            "tags": []
          },
          "execution_count": 2
        }
      ]
    }
  ]
}